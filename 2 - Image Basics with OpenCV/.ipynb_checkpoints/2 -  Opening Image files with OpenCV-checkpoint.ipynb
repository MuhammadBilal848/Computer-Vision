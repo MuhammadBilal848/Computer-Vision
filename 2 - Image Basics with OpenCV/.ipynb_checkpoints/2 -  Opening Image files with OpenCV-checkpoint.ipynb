{
 "cells": [
  {
   "cell_type": "code",
   "execution_count": 1,
   "metadata": {},
   "outputs": [],
   "source": [
    "import cv2\n",
    "pic = cv2.imread('../Data/00-puppy.jpg')\n",
    "# we usually use plt.imshow but opencv has its own imshow which shows an image in a separate window\n",
    "# cv2.imshow() this takes two arguments first is window name(we can pick randomly) and second is img object\n",
    "cv2.imshow('Puppy',pic)\n",
    "# waitKey is a function which allows us to be able to click on exit button and close that window\n",
    "cv2.waitKey()\n",
    "# POTENTIAL ERROR\n",
    "# Many times JupyterLab and Jupyter Notebook can display a new window with no issues , but the kernel crashes when the opencv\n",
    "# window is closed\n",
    "# To fix this potential issue just restart the kernel.\n",
    "# These issues appear more on MacOS and Linux than windows"
   ]
  },
  {
   "cell_type": "code",
   "execution_count": 2,
   "metadata": {},
   "outputs": [],
   "source": [
    "# cv2.waitKey takes an integer as argument which is nothing but miliseconds that how many miliseconds you want to show this\n",
    "# image in external window\n",
    "pic = cv2.imread('../Data/00-puppy.jpg')\n",
    "cv2.imshow('Puppy',pic)\n",
    "# here i will give 1 milisecond which is quite a small interval of time so i wont even see that image , but we can see \n",
    "# popup in task bar\n",
    "cv2.waitKey(1) # 1 milisecond\n",
    "# remeber when passing milisecond as argument always use cv2.destroyAllWindows command so that it will automatically destroy \n",
    "# all the windows \n",
    "cv2.destroyAllWindows() "
   ]
  },
  {
   "cell_type": "code",
   "execution_count": 10,
   "metadata": {},
   "outputs": [],
   "source": [
    "# lets try for 5000 miliseconds \n",
    "pic = cv2.imread('../Data/00-puppy.jpg')\n",
    "cv2.imshow('Puppy',pic)\n",
    "# 5000 ms = 5 seconds\n",
    "cv2.waitKey(5000) # so the image will stay for 5 seconds\n",
    "cv2.destroyAllWindows()"
   ]
  },
  {
   "cell_type": "code",
   "execution_count": 63,
   "metadata": {},
   "outputs": [],
   "source": [
    "# to avoid potential error of kernel crashing we use while loop with specific condition so due to which it will show image \n",
    "# continuously untill i press 'q' or any character we want to set.\n",
    "\n",
    "# 0xFF is a hex code for 8-bit integer\n",
    "# ord() is a function which return unicode of character that is an 8 bit number \n",
    "# so comparing 0xff==ord('q') will care about these 8 bits and will set respective other bits to be 0 to achieve ordinal number.\n",
    "# cv2,waitKey(0) will return -1 which is True in boolean and 0xff==ord('q') will also return True when we press 'q' so \n",
    "# the & of -1 and 1 is 1 (-1&1=1,you can check it if you want to ;) )\n",
    "# cv2.destroyAllWindows() will destroy the window right after loop breaking\n",
    "\n",
    "img = cv2.imread('../Data/00-puppy.jpg')\n",
    "\n",
    "while True:\n",
    "    cv2.imshow('Puppy',img)\n",
    "    if cv2.waitKey(0) & 0xFF == ord('q'): \n",
    "        break\n",
    "\n",
    "cv2.destroyAllWindows()"
   ]
  },
  {
   "cell_type": "code",
   "execution_count": null,
   "metadata": {},
   "outputs": [],
   "source": [
    "# Links to get this more clear\n",
    "# [ https://pythonpedia.com/en/knowledge-base/35372700/what-s-0xff-for-in-cv2-waitkey-1-- ]\n",
    "# [ https://stackoverflow.com/questions/35372700/whats-0xff-for-in-cv2-waitkey1?noredirect=1&lq=1 ]\n",
    "#"
   ]
  }
 ],
 "metadata": {
  "kernelspec": {
   "display_name": "Python 3",
   "language": "python",
   "name": "python3"
  },
  "language_info": {
   "codemirror_mode": {
    "name": "ipython",
    "version": 3
   },
   "file_extension": ".py",
   "mimetype": "text/x-python",
   "name": "python",
   "nbconvert_exporter": "python",
   "pygments_lexer": "ipython3",
   "version": "3.7.1"
  }
 },
 "nbformat": 4,
 "nbformat_minor": 2
}

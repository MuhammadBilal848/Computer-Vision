{
 "cells": [
  {
   "cell_type": "code",
   "execution_count": 7,
   "metadata": {},
   "outputs": [],
   "source": [
    "import cv2\n",
    "import numpy as np"
   ]
  },
  {
   "cell_type": "code",
   "execution_count": 14,
   "metadata": {
    "scrolled": true
   },
   "outputs": [],
   "source": [
    "# first we need to set some variables \n",
    "drawing = False # True when mouse buttom is down, False when mouse button is up\n",
    "ix = 0 # ix means initial position of x by default\n",
    "iy = 0 # iy means initial position of y by default\n",
    "\n",
    "# now we have to define a function which we want to apply , as we did previously\n",
    "def draw_rect(event,x,y,flags,param):\n",
    "    global ix,iy,drawing\n",
    "    \n",
    "    if event == cv2.EVENT_LBUTTONDOWN: # when the left button down event occurs, thats the initial point of drawing so we have \n",
    "# saved the x and y position as ix and iy\n",
    "        drawing = True\n",
    "        ix,iy = x,y\n",
    "    elif event == cv2.EVENT_MOUSEMOVE: # when the Mouse move event occurs, thats where we are stretching the shape by pressing\n",
    "# Left button down and moving the mouse , due to which the x and y value is unknown and we dont event know where will user stop \n",
    "# so we know the initial point of rectangle but not final so we have passed x and y as it as while mouse is moving.\n",
    "        if drawing == True:\n",
    "            cv2.rectangle(img,(ix,iy),(x,y),(255,0,0),-1)\n",
    "    elif event == cv2.EVENT_LBUTTONUP: # when left button up event occurs, thats where we release mouse , after which we will\n",
    "# get to know the final position of rectangle , thats why we saved these values as fx(final x) and fy(final y).\n",
    "        drawing = False\n",
    "        fx,fy = x,y\n",
    "        cv2.rectangle(img,(ix,iy),(fx,fy),(255,0,0),-1)\n",
    "\n",
    "# now we have to connect window \n",
    "cv2.namedWindow('Drawing Rectangle')\n",
    "cv2.setMouseCallback('Drawing Rectangle',draw_rect)\n",
    "\n",
    "\n",
    "\n",
    "img = np.zeros((500,800,3))\n",
    "while True:\n",
    "    cv2.imshow('Drawing Rectangle',img)\n",
    "    if cv2.waitKey(1) & 0xff == ord('q'):\n",
    "        break\n",
    "cv2.destroyAllWindows()"
   ]
  }
 ],
 "metadata": {
  "kernelspec": {
   "display_name": "Python 3",
   "language": "python",
   "name": "python3"
  },
  "language_info": {
   "codemirror_mode": {
    "name": "ipython",
    "version": 3
   },
   "file_extension": ".py",
   "mimetype": "text/x-python",
   "name": "python",
   "nbconvert_exporter": "python",
   "pygments_lexer": "ipython3",
   "version": "3.7.1"
  }
 },
 "nbformat": 4,
 "nbformat_minor": 2
}

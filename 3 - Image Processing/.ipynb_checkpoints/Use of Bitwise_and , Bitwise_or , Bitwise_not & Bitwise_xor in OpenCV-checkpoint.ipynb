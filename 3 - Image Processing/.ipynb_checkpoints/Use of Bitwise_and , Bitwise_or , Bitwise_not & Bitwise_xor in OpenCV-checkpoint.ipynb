{
 "cells": [
  {
   "cell_type": "code",
   "execution_count": 2,
   "metadata": {},
   "outputs": [],
   "source": [
    "import cv2\n",
    "import numpy as np"
   ]
  },
  {
   "cell_type": "code",
   "execution_count": 1,
   "metadata": {},
   "outputs": [],
   "source": [
    "img1 = np.zeros((300, 300), dtype=\"uint8\")\n",
    "cv2.rectangle(img1, (100, 100), (250, 250), 255, -1)\n",
    "cv2.imshow(\"Image 1\", img1)\n",
    "\n",
    "img2 = np.zeros((300, 300), dtype=\"uint8\")\n",
    "cv2.circle(img2, (150, 150), 90, 255, -1)\n",
    "cv2.imshow(\"Image 2\", img2)\n",
    "\n",
    "# bitwise_and computes bitwise conjunction of the two arrays (dst = src1 & src2) means where-ever the values of both arrays\n",
    "# are same (i.e. 255 & 255) so the function will apply conjunction on that area.\n",
    "# ------------------------OR------------------------\n",
    "# where-ever the values are same the function will show that part only\n",
    "rect_and_circle = cv2.bitwise_and(img1,img2) \n",
    "cv2.imshow(\"AND operation\",rect_and_circle)\n",
    "\n",
    "\n",
    "# Calculates the per-element bit-wise disjunction of two arrays (dst = src1 or src2) means where-ever the value of one of the \n",
    "# array is same (i.e. 255 or 0 , 255 or 255) so the function will apply conjunction on that area and disjunction on other area.\n",
    "rect_and_circle = cv2.bitwise_or(img1,img2)\n",
    "cv2.imshow(\"NOT operation\",rect_and_circle)\n",
    "\n",
    "#  bitwise_not inverts every bit of an array means if an image is of black and white then bitwise not will convert black to \n",
    "# white and white to black\n",
    "rect_or_circle = cv2.bitwise_not(img1)\n",
    "cv2.imshow(\"NOT operation\",rect_or_circle)\n",
    "\n",
    "\n",
    "\n",
    "rect_xor_circle = cv2.bitwise_xor(img1,img2)\n",
    "cv2.imshow(\"XOR Operation\",rect_xor_circle)\n",
    "\n",
    "\n",
    "rect_xor_circle2 = cv2.bitwise_xor(img1,img2)\n",
    "cv2.imshow(\"XOR Operation\",rect_xor_circle2)\n",
    "\n",
    "\n",
    "cv2.waitKey(0)\n",
    "cv2.destroyAllWindows()\n",
    "\n",
    "# more to read here [ https://codeloop.org/opencv-python-bitwise-operations-on-images/ ]"
   ]
  }
 ],
 "metadata": {
  "kernelspec": {
   "display_name": "Python 3",
   "language": "python",
   "name": "python3"
  },
  "language_info": {
   "codemirror_mode": {
    "name": "ipython",
    "version": 3
   },
   "file_extension": ".py",
   "mimetype": "text/x-python",
   "name": "python",
   "nbconvert_exporter": "python",
   "pygments_lexer": "ipython3",
   "version": "3.7.1"
  }
 },
 "nbformat": 4,
 "nbformat_minor": 2
}
